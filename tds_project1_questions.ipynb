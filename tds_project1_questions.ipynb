{
  "nbformat": 4,
  "nbformat_minor": 0,
  "metadata": {
    "colab": {
      "provenance": [],
      "authorship_tag": "ABX9TyOo28yAkQfDA+FFNzBiq4cE",
      "include_colab_link": true
    },
    "kernelspec": {
      "name": "python3",
      "display_name": "Python 3"
    },
    "language_info": {
      "name": "python"
    }
  },
  "cells": [
    {
      "cell_type": "markdown",
      "metadata": {
        "id": "view-in-github",
        "colab_type": "text"
      },
      "source": [
        "<a href=\"https://colab.research.google.com/github/febixcf/tds-graded/blob/main/tds_project1_questions.ipynb\" target=\"_parent\"><img src=\"https://colab.research.google.com/assets/colab-badge.svg\" alt=\"Open In Colab\"/></a>"
      ]
    },
    {
      "cell_type": "code",
      "execution_count": 1,
      "metadata": {
        "id": "D2yoYV-8RESD"
      },
      "outputs": [],
      "source": [
        "import numpy as np\n",
        "import pandas as pd"
      ]
    },
    {
      "cell_type": "code",
      "source": [
        "users = pd.read_csv('users.csv', parse_dates=['created_at'])\n",
        "repos = pd.read_csv('repositories.csv')"
      ],
      "metadata": {
        "id": "yVnFEhqNRLR-"
      },
      "execution_count": 2,
      "outputs": []
    },
    {
      "cell_type": "code",
      "source": [
        "users.head()"
      ],
      "metadata": {
        "id": "hGWqAhvORm4R"
      },
      "execution_count": null,
      "outputs": []
    },
    {
      "cell_type": "code",
      "source": [
        "repos.columns"
      ],
      "metadata": {
        "colab": {
          "base_uri": "https://localhost:8080/"
        },
        "id": "98CqEd2IWGFz",
        "outputId": "f8e266fe-1957-42e4-86f4-72ecce384cdc"
      },
      "execution_count": 4,
      "outputs": [
        {
          "output_type": "execute_result",
          "data": {
            "text/plain": [
              "Index(['login', 'full_name', 'created_at', 'stargazers_count',\n",
              "       'watchers_count', 'language', 'has_projects', 'has_wiki',\n",
              "       'license_name'],\n",
              "      dtype='object')"
            ]
          },
          "metadata": {},
          "execution_count": 4
        }
      ]
    },
    {
      "cell_type": "code",
      "source": [
        "users.columns"
      ],
      "metadata": {
        "colab": {
          "base_uri": "https://localhost:8080/"
        },
        "id": "cV0l7NYPRqRq",
        "outputId": "4aeb6360-9a3e-4b4f-f449-56b3ab11011f"
      },
      "execution_count": 5,
      "outputs": [
        {
          "output_type": "execute_result",
          "data": {
            "text/plain": [
              "Index(['login', 'name', 'company', 'location', 'email', 'hireable', 'bio',\n",
              "       'public_repos', 'followers', 'following', 'created_at'],\n",
              "      dtype='object')"
            ]
          },
          "metadata": {},
          "execution_count": 5
        }
      ]
    },
    {
      "cell_type": "markdown",
      "source": [
        "### 1 Who are the top 5 users in Mumbai with the highest number of followers? List their login in order, comma-separated."
      ],
      "metadata": {
        "id": "5j0FIRyvRamw"
      }
    },
    {
      "cell_type": "code",
      "source": [
        "# argsort returns the indices of the values in the order they are sorted\n",
        "idx = np.argsort(users['followers'].values)[::-1][:5]\n",
        "users.loc[idx, 'login'].values"
      ],
      "metadata": {
        "colab": {
          "base_uri": "https://localhost:8080/"
        },
        "id": "kk415Q-YRjzk",
        "outputId": "eb7f5ab9-77d8-41f4-fc0c-66d0fba7cf71"
      },
      "execution_count": 6,
      "outputs": [
        {
          "output_type": "execute_result",
          "data": {
            "text/plain": [
              "array(['ValentineFernandes', 'kovidgoyal', 'slidenerd', 'aryashah2k',\n",
              "       'coding-parrot'], dtype=object)"
            ]
          },
          "metadata": {},
          "execution_count": 6
        }
      ]
    },
    {
      "cell_type": "markdown",
      "source": [
        "### 2. Who are the 5 earliest registered GitHub users in Mumbai? List their login in ascending order of created_at, comma-separated."
      ],
      "metadata": {
        "id": "uEOC8YLzUKvK"
      }
    },
    {
      "cell_type": "code",
      "source": [
        "users.sort_values('created_at').head(5)['login'].values"
      ],
      "metadata": {
        "colab": {
          "base_uri": "https://localhost:8080/"
        },
        "id": "t3_ht1P2UXjT",
        "outputId": "15ddd990-9778-40e4-a6c1-7912e684b074"
      },
      "execution_count": 7,
      "outputs": [
        {
          "output_type": "execute_result",
          "data": {
            "text/plain": [
              "array(['ivank', 'sandeepshetty', 'svs', 'nitinhayaran', 'nischal'],\n",
              "      dtype=object)"
            ]
          },
          "metadata": {},
          "execution_count": 7
        }
      ]
    },
    {
      "cell_type": "markdown",
      "source": [
        "###3. What are the 3 most popular license among these users? Ignore missing licenses. List the license_name in order, comma-separated."
      ],
      "metadata": {
        "id": "eeCCT7l4VD5R"
      }
    },
    {
      "cell_type": "code",
      "source": [
        "repos['license_name'].value_counts().head(3).index.values"
      ],
      "metadata": {
        "colab": {
          "base_uri": "https://localhost:8080/"
        },
        "id": "YzWnQUHLVKRZ",
        "outputId": "4924e749-d249-4e6f-f744-7c43d458969d"
      },
      "execution_count": 8,
      "outputs": [
        {
          "output_type": "execute_result",
          "data": {
            "text/plain": [
              "array(['mit', 'apache-2.0', 'other'], dtype=object)"
            ]
          },
          "metadata": {},
          "execution_count": 8
        }
      ]
    },
    {
      "cell_type": "markdown",
      "source": [
        "### 4. Which company do the majority of these developers work at?"
      ],
      "metadata": {
        "id": "ilW0-voGWu2H"
      }
    },
    {
      "cell_type": "code",
      "source": [
        "users['company'].value_counts().head(1).index[0]"
      ],
      "metadata": {
        "colab": {
          "base_uri": "https://localhost:8080/",
          "height": 36
        },
        "id": "AW3Hah2YWyfY",
        "outputId": "93fd47e3-d900-4a42-88d9-f915a855b2c1"
      },
      "execution_count": 9,
      "outputs": [
        {
          "output_type": "execute_result",
          "data": {
            "text/plain": [
              "'MASAI SCHOOL'"
            ],
            "application/vnd.google.colaboratory.intrinsic+json": {
              "type": "string"
            }
          },
          "metadata": {},
          "execution_count": 9
        }
      ]
    },
    {
      "cell_type": "markdown",
      "source": [
        "### 5. Which programming language is most popular among these users?"
      ],
      "metadata": {
        "id": "5sCDAOudXUZ2"
      }
    },
    {
      "cell_type": "code",
      "source": [
        "repos['language'].value_counts().head(1).index[0]"
      ],
      "metadata": {
        "colab": {
          "base_uri": "https://localhost:8080/",
          "height": 36
        },
        "id": "N6SN9DC8XY0c",
        "outputId": "4c6c644c-e25d-417b-b93d-9698dd7f139e"
      },
      "execution_count": 10,
      "outputs": [
        {
          "output_type": "execute_result",
          "data": {
            "text/plain": [
              "'JavaScript'"
            ],
            "application/vnd.google.colaboratory.intrinsic+json": {
              "type": "string"
            }
          },
          "metadata": {},
          "execution_count": 10
        }
      ]
    },
    {
      "cell_type": "markdown",
      "source": [
        "### 6. Which programming language is the second most popular among users who joined after 2020?"
      ],
      "metadata": {
        "id": "6C5FlYShXqe5"
      }
    },
    {
      "cell_type": "code",
      "source": [
        "#  Merge the users and repos dataframe so that we can use it to filter the users who joined after 2020\n",
        "merged_df = repos.merge(users, how='left', on='login')\n",
        "merged_df.head()"
      ],
      "metadata": {
        "colab": {
          "base_uri": "https://localhost:8080/",
          "height": 660
        },
        "id": "36tFYK94XrkK",
        "outputId": "dbd70753-8937-4a27-d5dd-6bdba1c0c725"
      },
      "execution_count": 11,
      "outputs": [
        {
          "output_type": "execute_result",
          "data": {
            "text/plain": [
              "                login                                  full_name  \\\n",
              "0  ValentineFernandes         ValentineFernandes/Age-Calculator-   \n",
              "1  ValentineFernandes                ValentineFernandes/ASP.NET-   \n",
              "2  ValentineFernandes          ValentineFernandes/Assignment-4.2   \n",
              "3  ValentineFernandes  ValentineFernandes/Bank-Management-System   \n",
              "4  ValentineFernandes  ValentineFernandes/BMI-Calculator-Website   \n",
              "\n",
              "           created_at_x  stargazers_count  watchers_count language  \\\n",
              "0  2022-08-17T06:32:19Z                13              13      CSS   \n",
              "1  2022-04-26T10:12:11Z                18              18  ASP.NET   \n",
              "2  2022-04-14T11:55:25Z                15              15     HTML   \n",
              "3  2022-04-24T16:24:17Z                26              26        C   \n",
              "4  2022-08-17T04:47:27Z                11              11     HTML   \n",
              "\n",
              "   has_projects  has_wiki license_name                 name company  \\\n",
              "0          True      True          mit  Valentine Fernandes     NaN   \n",
              "1          True      True          NaN  Valentine Fernandes     NaN   \n",
              "2          True      True          NaN  Valentine Fernandes     NaN   \n",
              "3          True      True          NaN  Valentine Fernandes     NaN   \n",
              "4          True      True          mit  Valentine Fernandes     NaN   \n",
              "\n",
              "        location email hireable                                        bio  \\\n",
              "0  Mumbai, India   NaN      NaN  HTML |  CSS |  JS  |  SQL |  MYSQL | JAVA   \n",
              "1  Mumbai, India   NaN      NaN  HTML |  CSS |  JS  |  SQL |  MYSQL | JAVA   \n",
              "2  Mumbai, India   NaN      NaN  HTML |  CSS |  JS  |  SQL |  MYSQL | JAVA   \n",
              "3  Mumbai, India   NaN      NaN  HTML |  CSS |  JS  |  SQL |  MYSQL | JAVA   \n",
              "4  Mumbai, India   NaN      NaN  HTML |  CSS |  JS  |  SQL |  MYSQL | JAVA   \n",
              "\n",
              "   public_repos  followers  following              created_at_y  \n",
              "0            66       5246       5275 2022-01-29 08:11:37+00:00  \n",
              "1            66       5246       5275 2022-01-29 08:11:37+00:00  \n",
              "2            66       5246       5275 2022-01-29 08:11:37+00:00  \n",
              "3            66       5246       5275 2022-01-29 08:11:37+00:00  \n",
              "4            66       5246       5275 2022-01-29 08:11:37+00:00  "
            ],
            "text/html": [
              "\n",
              "  <div id=\"df-16247067-b064-45f0-bf2b-276fe0e28759\" class=\"colab-df-container\">\n",
              "    <div>\n",
              "<style scoped>\n",
              "    .dataframe tbody tr th:only-of-type {\n",
              "        vertical-align: middle;\n",
              "    }\n",
              "\n",
              "    .dataframe tbody tr th {\n",
              "        vertical-align: top;\n",
              "    }\n",
              "\n",
              "    .dataframe thead th {\n",
              "        text-align: right;\n",
              "    }\n",
              "</style>\n",
              "<table border=\"1\" class=\"dataframe\">\n",
              "  <thead>\n",
              "    <tr style=\"text-align: right;\">\n",
              "      <th></th>\n",
              "      <th>login</th>\n",
              "      <th>full_name</th>\n",
              "      <th>created_at_x</th>\n",
              "      <th>stargazers_count</th>\n",
              "      <th>watchers_count</th>\n",
              "      <th>language</th>\n",
              "      <th>has_projects</th>\n",
              "      <th>has_wiki</th>\n",
              "      <th>license_name</th>\n",
              "      <th>name</th>\n",
              "      <th>company</th>\n",
              "      <th>location</th>\n",
              "      <th>email</th>\n",
              "      <th>hireable</th>\n",
              "      <th>bio</th>\n",
              "      <th>public_repos</th>\n",
              "      <th>followers</th>\n",
              "      <th>following</th>\n",
              "      <th>created_at_y</th>\n",
              "    </tr>\n",
              "  </thead>\n",
              "  <tbody>\n",
              "    <tr>\n",
              "      <th>0</th>\n",
              "      <td>ValentineFernandes</td>\n",
              "      <td>ValentineFernandes/Age-Calculator-</td>\n",
              "      <td>2022-08-17T06:32:19Z</td>\n",
              "      <td>13</td>\n",
              "      <td>13</td>\n",
              "      <td>CSS</td>\n",
              "      <td>True</td>\n",
              "      <td>True</td>\n",
              "      <td>mit</td>\n",
              "      <td>Valentine Fernandes</td>\n",
              "      <td>NaN</td>\n",
              "      <td>Mumbai, India</td>\n",
              "      <td>NaN</td>\n",
              "      <td>NaN</td>\n",
              "      <td>HTML |  CSS |  JS  |  SQL |  MYSQL | JAVA</td>\n",
              "      <td>66</td>\n",
              "      <td>5246</td>\n",
              "      <td>5275</td>\n",
              "      <td>2022-01-29 08:11:37+00:00</td>\n",
              "    </tr>\n",
              "    <tr>\n",
              "      <th>1</th>\n",
              "      <td>ValentineFernandes</td>\n",
              "      <td>ValentineFernandes/ASP.NET-</td>\n",
              "      <td>2022-04-26T10:12:11Z</td>\n",
              "      <td>18</td>\n",
              "      <td>18</td>\n",
              "      <td>ASP.NET</td>\n",
              "      <td>True</td>\n",
              "      <td>True</td>\n",
              "      <td>NaN</td>\n",
              "      <td>Valentine Fernandes</td>\n",
              "      <td>NaN</td>\n",
              "      <td>Mumbai, India</td>\n",
              "      <td>NaN</td>\n",
              "      <td>NaN</td>\n",
              "      <td>HTML |  CSS |  JS  |  SQL |  MYSQL | JAVA</td>\n",
              "      <td>66</td>\n",
              "      <td>5246</td>\n",
              "      <td>5275</td>\n",
              "      <td>2022-01-29 08:11:37+00:00</td>\n",
              "    </tr>\n",
              "    <tr>\n",
              "      <th>2</th>\n",
              "      <td>ValentineFernandes</td>\n",
              "      <td>ValentineFernandes/Assignment-4.2</td>\n",
              "      <td>2022-04-14T11:55:25Z</td>\n",
              "      <td>15</td>\n",
              "      <td>15</td>\n",
              "      <td>HTML</td>\n",
              "      <td>True</td>\n",
              "      <td>True</td>\n",
              "      <td>NaN</td>\n",
              "      <td>Valentine Fernandes</td>\n",
              "      <td>NaN</td>\n",
              "      <td>Mumbai, India</td>\n",
              "      <td>NaN</td>\n",
              "      <td>NaN</td>\n",
              "      <td>HTML |  CSS |  JS  |  SQL |  MYSQL | JAVA</td>\n",
              "      <td>66</td>\n",
              "      <td>5246</td>\n",
              "      <td>5275</td>\n",
              "      <td>2022-01-29 08:11:37+00:00</td>\n",
              "    </tr>\n",
              "    <tr>\n",
              "      <th>3</th>\n",
              "      <td>ValentineFernandes</td>\n",
              "      <td>ValentineFernandes/Bank-Management-System</td>\n",
              "      <td>2022-04-24T16:24:17Z</td>\n",
              "      <td>26</td>\n",
              "      <td>26</td>\n",
              "      <td>C</td>\n",
              "      <td>True</td>\n",
              "      <td>True</td>\n",
              "      <td>NaN</td>\n",
              "      <td>Valentine Fernandes</td>\n",
              "      <td>NaN</td>\n",
              "      <td>Mumbai, India</td>\n",
              "      <td>NaN</td>\n",
              "      <td>NaN</td>\n",
              "      <td>HTML |  CSS |  JS  |  SQL |  MYSQL | JAVA</td>\n",
              "      <td>66</td>\n",
              "      <td>5246</td>\n",
              "      <td>5275</td>\n",
              "      <td>2022-01-29 08:11:37+00:00</td>\n",
              "    </tr>\n",
              "    <tr>\n",
              "      <th>4</th>\n",
              "      <td>ValentineFernandes</td>\n",
              "      <td>ValentineFernandes/BMI-Calculator-Website</td>\n",
              "      <td>2022-08-17T04:47:27Z</td>\n",
              "      <td>11</td>\n",
              "      <td>11</td>\n",
              "      <td>HTML</td>\n",
              "      <td>True</td>\n",
              "      <td>True</td>\n",
              "      <td>mit</td>\n",
              "      <td>Valentine Fernandes</td>\n",
              "      <td>NaN</td>\n",
              "      <td>Mumbai, India</td>\n",
              "      <td>NaN</td>\n",
              "      <td>NaN</td>\n",
              "      <td>HTML |  CSS |  JS  |  SQL |  MYSQL | JAVA</td>\n",
              "      <td>66</td>\n",
              "      <td>5246</td>\n",
              "      <td>5275</td>\n",
              "      <td>2022-01-29 08:11:37+00:00</td>\n",
              "    </tr>\n",
              "  </tbody>\n",
              "</table>\n",
              "</div>\n",
              "    <div class=\"colab-df-buttons\">\n",
              "\n",
              "  <div class=\"colab-df-container\">\n",
              "    <button class=\"colab-df-convert\" onclick=\"convertToInteractive('df-16247067-b064-45f0-bf2b-276fe0e28759')\"\n",
              "            title=\"Convert this dataframe to an interactive table.\"\n",
              "            style=\"display:none;\">\n",
              "\n",
              "  <svg xmlns=\"http://www.w3.org/2000/svg\" height=\"24px\" viewBox=\"0 -960 960 960\">\n",
              "    <path d=\"M120-120v-720h720v720H120Zm60-500h600v-160H180v160Zm220 220h160v-160H400v160Zm0 220h160v-160H400v160ZM180-400h160v-160H180v160Zm440 0h160v-160H620v160ZM180-180h160v-160H180v160Zm440 0h160v-160H620v160Z\"/>\n",
              "  </svg>\n",
              "    </button>\n",
              "\n",
              "  <style>\n",
              "    .colab-df-container {\n",
              "      display:flex;\n",
              "      gap: 12px;\n",
              "    }\n",
              "\n",
              "    .colab-df-convert {\n",
              "      background-color: #E8F0FE;\n",
              "      border: none;\n",
              "      border-radius: 50%;\n",
              "      cursor: pointer;\n",
              "      display: none;\n",
              "      fill: #1967D2;\n",
              "      height: 32px;\n",
              "      padding: 0 0 0 0;\n",
              "      width: 32px;\n",
              "    }\n",
              "\n",
              "    .colab-df-convert:hover {\n",
              "      background-color: #E2EBFA;\n",
              "      box-shadow: 0px 1px 2px rgba(60, 64, 67, 0.3), 0px 1px 3px 1px rgba(60, 64, 67, 0.15);\n",
              "      fill: #174EA6;\n",
              "    }\n",
              "\n",
              "    .colab-df-buttons div {\n",
              "      margin-bottom: 4px;\n",
              "    }\n",
              "\n",
              "    [theme=dark] .colab-df-convert {\n",
              "      background-color: #3B4455;\n",
              "      fill: #D2E3FC;\n",
              "    }\n",
              "\n",
              "    [theme=dark] .colab-df-convert:hover {\n",
              "      background-color: #434B5C;\n",
              "      box-shadow: 0px 1px 3px 1px rgba(0, 0, 0, 0.15);\n",
              "      filter: drop-shadow(0px 1px 2px rgba(0, 0, 0, 0.3));\n",
              "      fill: #FFFFFF;\n",
              "    }\n",
              "  </style>\n",
              "\n",
              "    <script>\n",
              "      const buttonEl =\n",
              "        document.querySelector('#df-16247067-b064-45f0-bf2b-276fe0e28759 button.colab-df-convert');\n",
              "      buttonEl.style.display =\n",
              "        google.colab.kernel.accessAllowed ? 'block' : 'none';\n",
              "\n",
              "      async function convertToInteractive(key) {\n",
              "        const element = document.querySelector('#df-16247067-b064-45f0-bf2b-276fe0e28759');\n",
              "        const dataTable =\n",
              "          await google.colab.kernel.invokeFunction('convertToInteractive',\n",
              "                                                    [key], {});\n",
              "        if (!dataTable) return;\n",
              "\n",
              "        const docLinkHtml = 'Like what you see? Visit the ' +\n",
              "          '<a target=\"_blank\" href=https://colab.research.google.com/notebooks/data_table.ipynb>data table notebook</a>'\n",
              "          + ' to learn more about interactive tables.';\n",
              "        element.innerHTML = '';\n",
              "        dataTable['output_type'] = 'display_data';\n",
              "        await google.colab.output.renderOutput(dataTable, element);\n",
              "        const docLink = document.createElement('div');\n",
              "        docLink.innerHTML = docLinkHtml;\n",
              "        element.appendChild(docLink);\n",
              "      }\n",
              "    </script>\n",
              "  </div>\n",
              "\n",
              "\n",
              "<div id=\"df-ad5a73fb-0a2f-4ae1-862c-a9358cf35db4\">\n",
              "  <button class=\"colab-df-quickchart\" onclick=\"quickchart('df-ad5a73fb-0a2f-4ae1-862c-a9358cf35db4')\"\n",
              "            title=\"Suggest charts\"\n",
              "            style=\"display:none;\">\n",
              "\n",
              "<svg xmlns=\"http://www.w3.org/2000/svg\" height=\"24px\"viewBox=\"0 0 24 24\"\n",
              "     width=\"24px\">\n",
              "    <g>\n",
              "        <path d=\"M19 3H5c-1.1 0-2 .9-2 2v14c0 1.1.9 2 2 2h14c1.1 0 2-.9 2-2V5c0-1.1-.9-2-2-2zM9 17H7v-7h2v7zm4 0h-2V7h2v10zm4 0h-2v-4h2v4z\"/>\n",
              "    </g>\n",
              "</svg>\n",
              "  </button>\n",
              "\n",
              "<style>\n",
              "  .colab-df-quickchart {\n",
              "      --bg-color: #E8F0FE;\n",
              "      --fill-color: #1967D2;\n",
              "      --hover-bg-color: #E2EBFA;\n",
              "      --hover-fill-color: #174EA6;\n",
              "      --disabled-fill-color: #AAA;\n",
              "      --disabled-bg-color: #DDD;\n",
              "  }\n",
              "\n",
              "  [theme=dark] .colab-df-quickchart {\n",
              "      --bg-color: #3B4455;\n",
              "      --fill-color: #D2E3FC;\n",
              "      --hover-bg-color: #434B5C;\n",
              "      --hover-fill-color: #FFFFFF;\n",
              "      --disabled-bg-color: #3B4455;\n",
              "      --disabled-fill-color: #666;\n",
              "  }\n",
              "\n",
              "  .colab-df-quickchart {\n",
              "    background-color: var(--bg-color);\n",
              "    border: none;\n",
              "    border-radius: 50%;\n",
              "    cursor: pointer;\n",
              "    display: none;\n",
              "    fill: var(--fill-color);\n",
              "    height: 32px;\n",
              "    padding: 0;\n",
              "    width: 32px;\n",
              "  }\n",
              "\n",
              "  .colab-df-quickchart:hover {\n",
              "    background-color: var(--hover-bg-color);\n",
              "    box-shadow: 0 1px 2px rgba(60, 64, 67, 0.3), 0 1px 3px 1px rgba(60, 64, 67, 0.15);\n",
              "    fill: var(--button-hover-fill-color);\n",
              "  }\n",
              "\n",
              "  .colab-df-quickchart-complete:disabled,\n",
              "  .colab-df-quickchart-complete:disabled:hover {\n",
              "    background-color: var(--disabled-bg-color);\n",
              "    fill: var(--disabled-fill-color);\n",
              "    box-shadow: none;\n",
              "  }\n",
              "\n",
              "  .colab-df-spinner {\n",
              "    border: 2px solid var(--fill-color);\n",
              "    border-color: transparent;\n",
              "    border-bottom-color: var(--fill-color);\n",
              "    animation:\n",
              "      spin 1s steps(1) infinite;\n",
              "  }\n",
              "\n",
              "  @keyframes spin {\n",
              "    0% {\n",
              "      border-color: transparent;\n",
              "      border-bottom-color: var(--fill-color);\n",
              "      border-left-color: var(--fill-color);\n",
              "    }\n",
              "    20% {\n",
              "      border-color: transparent;\n",
              "      border-left-color: var(--fill-color);\n",
              "      border-top-color: var(--fill-color);\n",
              "    }\n",
              "    30% {\n",
              "      border-color: transparent;\n",
              "      border-left-color: var(--fill-color);\n",
              "      border-top-color: var(--fill-color);\n",
              "      border-right-color: var(--fill-color);\n",
              "    }\n",
              "    40% {\n",
              "      border-color: transparent;\n",
              "      border-right-color: var(--fill-color);\n",
              "      border-top-color: var(--fill-color);\n",
              "    }\n",
              "    60% {\n",
              "      border-color: transparent;\n",
              "      border-right-color: var(--fill-color);\n",
              "    }\n",
              "    80% {\n",
              "      border-color: transparent;\n",
              "      border-right-color: var(--fill-color);\n",
              "      border-bottom-color: var(--fill-color);\n",
              "    }\n",
              "    90% {\n",
              "      border-color: transparent;\n",
              "      border-bottom-color: var(--fill-color);\n",
              "    }\n",
              "  }\n",
              "</style>\n",
              "\n",
              "  <script>\n",
              "    async function quickchart(key) {\n",
              "      const quickchartButtonEl =\n",
              "        document.querySelector('#' + key + ' button');\n",
              "      quickchartButtonEl.disabled = true;  // To prevent multiple clicks.\n",
              "      quickchartButtonEl.classList.add('colab-df-spinner');\n",
              "      try {\n",
              "        const charts = await google.colab.kernel.invokeFunction(\n",
              "            'suggestCharts', [key], {});\n",
              "      } catch (error) {\n",
              "        console.error('Error during call to suggestCharts:', error);\n",
              "      }\n",
              "      quickchartButtonEl.classList.remove('colab-df-spinner');\n",
              "      quickchartButtonEl.classList.add('colab-df-quickchart-complete');\n",
              "    }\n",
              "    (() => {\n",
              "      let quickchartButtonEl =\n",
              "        document.querySelector('#df-ad5a73fb-0a2f-4ae1-862c-a9358cf35db4 button');\n",
              "      quickchartButtonEl.style.display =\n",
              "        google.colab.kernel.accessAllowed ? 'block' : 'none';\n",
              "    })();\n",
              "  </script>\n",
              "</div>\n",
              "\n",
              "    </div>\n",
              "  </div>\n"
            ],
            "application/vnd.google.colaboratory.intrinsic+json": {
              "type": "dataframe",
              "variable_name": "merged_df",
              "summary": "{\n  \"name\": \"merged_df\",\n  \"rows\": 41188,\n  \"fields\": [\n    {\n      \"column\": \"login\",\n      \"properties\": {\n        \"dtype\": \"category\",\n        \"num_unique_values\": 715,\n        \"samples\": [\n          \"TheSuranaverse\",\n          \"Dare-marvel\",\n          \"Suraj-Upadhyay\"\n        ],\n        \"semantic_type\": \"\",\n        \"description\": \"\"\n      }\n    },\n    {\n      \"column\": \"full_name\",\n      \"properties\": {\n        \"dtype\": \"string\",\n        \"num_unique_values\": 41188,\n        \"samples\": [\n          \"bedantH/rust-todo\",\n          \"burhanuday/css-loader\",\n          \"aakashjhawar/AvatarGAN\"\n        ],\n        \"semantic_type\": \"\",\n        \"description\": \"\"\n      }\n    },\n    {\n      \"column\": \"created_at_x\",\n      \"properties\": {\n        \"dtype\": \"object\",\n        \"num_unique_values\": 41177,\n        \"samples\": [\n          \"2021-02-14T11:01:45Z\",\n          \"2021-09-29T12:14:20Z\",\n          \"2013-01-13T08:58:51Z\"\n        ],\n        \"semantic_type\": \"\",\n        \"description\": \"\"\n      }\n    },\n    {\n      \"column\": \"stargazers_count\",\n      \"properties\": {\n        \"dtype\": \"number\",\n        \"std\": 172,\n        \"min\": 0,\n        \"max\": 24271,\n        \"num_unique_values\": 278,\n        \"samples\": [\n          6,\n          51,\n          711\n        ],\n        \"semantic_type\": \"\",\n        \"description\": \"\"\n      }\n    },\n    {\n      \"column\": \"watchers_count\",\n      \"properties\": {\n        \"dtype\": \"number\",\n        \"std\": 172,\n        \"min\": 0,\n        \"max\": 24271,\n        \"num_unique_values\": 278,\n        \"samples\": [\n          6,\n          51,\n          711\n        ],\n        \"semantic_type\": \"\",\n        \"description\": \"\"\n      }\n    },\n    {\n      \"column\": \"language\",\n      \"properties\": {\n        \"dtype\": \"category\",\n        \"num_unique_values\": 137,\n        \"samples\": [\n          \"GCC Machine Description\",\n          \"Emacs Lisp\",\n          \"R\"\n        ],\n        \"semantic_type\": \"\",\n        \"description\": \"\"\n      }\n    },\n    {\n      \"column\": \"has_projects\",\n      \"properties\": {\n        \"dtype\": \"boolean\",\n        \"num_unique_values\": 2,\n        \"samples\": [\n          false,\n          true\n        ],\n        \"semantic_type\": \"\",\n        \"description\": \"\"\n      }\n    },\n    {\n      \"column\": \"has_wiki\",\n      \"properties\": {\n        \"dtype\": \"boolean\",\n        \"num_unique_values\": 2,\n        \"samples\": [\n          false,\n          true\n        ],\n        \"semantic_type\": \"\",\n        \"description\": \"\"\n      }\n    },\n    {\n      \"column\": \"license_name\",\n      \"properties\": {\n        \"dtype\": \"category\",\n        \"num_unique_values\": 31,\n        \"samples\": [\n          \"ncsa\",\n          \"zlib\"\n        ],\n        \"semantic_type\": \"\",\n        \"description\": \"\"\n      }\n    },\n    {\n      \"column\": \"name\",\n      \"properties\": {\n        \"dtype\": \"category\",\n        \"num_unique_values\": 702,\n        \"samples\": [\n          \"Smit Sekhadia\",\n          \"Vikas\"\n        ],\n        \"semantic_type\": \"\",\n        \"description\": \"\"\n      }\n    },\n    {\n      \"column\": \"company\",\n      \"properties\": {\n        \"dtype\": \"category\",\n        \"num_unique_values\": 337,\n        \"samples\": [\n          \"K.J.SOMAIYA COLLEGE OF ENGINEERING\",\n          \"CIMPRESS\"\n        ],\n        \"semantic_type\": \"\",\n        \"description\": \"\"\n      }\n    },\n    {\n      \"column\": \"location\",\n      \"properties\": {\n        \"dtype\": \"category\",\n        \"num_unique_values\": 112,\n        \"samples\": [\n          \"Mumbai || Chennai, India\",\n          \"Navi Mumbai, Maharashtra\"\n        ],\n        \"semantic_type\": \"\",\n        \"description\": \"\"\n      }\n    },\n    {\n      \"column\": \"email\",\n      \"properties\": {\n        \"dtype\": \"category\",\n        \"num_unique_values\": 330,\n        \"samples\": [\n          \"sudmishra01@gmail.com\",\n          \"2015sagar.ganiga@ves.ac.in\"\n        ],\n        \"semantic_type\": \"\",\n        \"description\": \"\"\n      }\n    },\n    {\n      \"column\": \"hireable\",\n      \"properties\": {\n        \"dtype\": \"category\",\n        \"num_unique_values\": 1,\n        \"samples\": [\n          true\n        ],\n        \"semantic_type\": \"\",\n        \"description\": \"\"\n      }\n    },\n    {\n      \"column\": \"bio\",\n      \"properties\": {\n        \"dtype\": \"category\",\n        \"num_unique_values\": 621,\n        \"samples\": [\n          \"i know nothing\"\n        ],\n        \"semantic_type\": \"\",\n        \"description\": \"\"\n      }\n    },\n    {\n      \"column\": \"public_repos\",\n      \"properties\": {\n        \"dtype\": \"number\",\n        \"std\": 307,\n        \"min\": 1,\n        \"max\": 2499,\n        \"num_unique_values\": 161,\n        \"samples\": [\n          167\n        ],\n        \"semantic_type\": \"\",\n        \"description\": \"\"\n      }\n    },\n    {\n      \"column\": \"followers\",\n      \"properties\": {\n        \"dtype\": \"number\",\n        \"std\": 356,\n        \"min\": 51,\n        \"max\": 5246,\n        \"num_unique_values\": 219,\n        \"samples\": [\n          116\n        ],\n        \"semantic_type\": \"\",\n        \"description\": \"\"\n      }\n    },\n    {\n      \"column\": \"following\",\n      \"properties\": {\n        \"dtype\": \"number\",\n        \"std\": 965,\n        \"min\": 0,\n        \"max\": 9058,\n        \"num_unique_values\": 230,\n        \"samples\": [\n          821\n        ],\n        \"semantic_type\": \"\",\n        \"description\": \"\"\n      }\n    },\n    {\n      \"column\": \"created_at_y\",\n      \"properties\": {\n        \"dtype\": \"date\",\n        \"min\": \"2008-04-04 08:04:42+00:00\",\n        \"max\": \"2024-03-29 06:23:16+00:00\",\n        \"num_unique_values\": 714,\n        \"samples\": [\n          \"2019-10-08 17:55:09+00:00\"\n        ],\n        \"semantic_type\": \"\",\n        \"description\": \"\"\n      }\n    }\n  ]\n}"
            }
          },
          "metadata": {},
          "execution_count": 11
        }
      ]
    },
    {
      "cell_type": "code",
      "source": [
        "# Filter the users who joined after 2020 and get the second most popular programming language\n",
        "merged_df['created_at_y'] = pd.to_datetime(merged_df['created_at_y'])\n",
        "merged_df[merged_df['created_at_y'].dt.year > 2020]['language'].value_counts().head(2).index[1]"
      ],
      "metadata": {
        "colab": {
          "base_uri": "https://localhost:8080/",
          "height": 36
        },
        "id": "lbFeV9DDYaP4",
        "outputId": "4bd0fc28-5df3-47c9-b6c7-a52bfc3fbc60"
      },
      "execution_count": 12,
      "outputs": [
        {
          "output_type": "execute_result",
          "data": {
            "text/plain": [
              "'HTML'"
            ],
            "application/vnd.google.colaboratory.intrinsic+json": {
              "type": "string"
            }
          },
          "metadata": {},
          "execution_count": 12
        }
      ]
    },
    {
      "cell_type": "markdown",
      "source": [
        "### 7. Which language has the highest average number of stars per repository?"
      ],
      "metadata": {
        "id": "o9UuYr3KZa1R"
      }
    },
    {
      "cell_type": "code",
      "source": [
        "repos.groupby('language')['stargazers_count'].mean().sort_values(ascending=False).head(1).index[0]"
      ],
      "metadata": {
        "colab": {
          "base_uri": "https://localhost:8080/",
          "height": 36
        },
        "id": "MTCwMrNQl1Y-",
        "outputId": "51e02553-e259-4ad3-d9d0-14abce71786a"
      },
      "execution_count": 13,
      "outputs": [
        {
          "output_type": "execute_result",
          "data": {
            "text/plain": [
              "'TSQL'"
            ],
            "application/vnd.google.colaboratory.intrinsic+json": {
              "type": "string"
            }
          },
          "metadata": {},
          "execution_count": 13
        }
      ]
    },
    {
      "cell_type": "markdown",
      "source": [
        "### 8. Let's define leader_strength as followers / (1 + following). Who are the top 5 in terms of leader_strength? List their login in order, comma-separated."
      ],
      "metadata": {
        "id": "JhhveJ2vmcRJ"
      }
    },
    {
      "cell_type": "code",
      "source": [
        "# creating a leader_strenght column\n",
        "users['leader_strength'] = users['followers'] / (1 + users['following'])\n",
        "users.sort_values('leader_strength', ascending=False).head(5)['login'].values"
      ],
      "metadata": {
        "colab": {
          "base_uri": "https://localhost:8080/"
        },
        "id": "CPyScPsXmdRR",
        "outputId": "b1e8aa32-6fa2-4690-9934-3808335f5696"
      },
      "execution_count": 14,
      "outputs": [
        {
          "output_type": "execute_result",
          "data": {
            "text/plain": [
              "array(['kovidgoyal', 'coding-parrot', 'gkcs', 'slidenerd', 'dmalvia'],\n",
              "      dtype=object)"
            ]
          },
          "metadata": {},
          "execution_count": 14
        }
      ]
    },
    {
      "cell_type": "markdown",
      "source": [
        "### 9. What is the correlation between the number of followers and the number of public repositories among users in Mumbai?"
      ],
      "metadata": {
        "id": "12Lhm_ATm3LV"
      }
    },
    {
      "cell_type": "code",
      "source": [
        "users['public_repos'].corr(users['followers'])"
      ],
      "metadata": {
        "colab": {
          "base_uri": "https://localhost:8080/"
        },
        "id": "7NzggHSMm4LD",
        "outputId": "e5ae47e4-d8c6-4a0f-e39d-14d447680378"
      },
      "execution_count": 15,
      "outputs": [
        {
          "output_type": "execute_result",
          "data": {
            "text/plain": [
              "0.03461479920661342"
            ]
          },
          "metadata": {},
          "execution_count": 15
        }
      ]
    },
    {
      "cell_type": "markdown",
      "source": [
        "### 10. Does creating more repos help users get more followers? Using regression, estimate how many additional followers a user gets per additional public repository."
      ],
      "metadata": {
        "id": "h9YtdjkPnRQp"
      }
    },
    {
      "cell_type": "code",
      "source": [
        "from sklearn.linear_model import LinearRegression\n",
        "\n",
        "input = users['public_repos'].values.reshape(-1, 1)\n",
        "output = users['followers'].values.reshape(-1, 1)\n",
        "model = LinearRegression()\n",
        "model.fit(input, output)\n",
        "\n",
        "model.coef_[0][0]"
      ],
      "metadata": {
        "colab": {
          "base_uri": "https://localhost:8080/"
        },
        "id": "rvQS3s1EnSL5",
        "outputId": "8270f583-5052-4b0e-f218-13289d1ce53b"
      },
      "execution_count": 16,
      "outputs": [
        {
          "output_type": "execute_result",
          "data": {
            "text/plain": [
              "0.10108026946686971"
            ]
          },
          "metadata": {},
          "execution_count": 16
        }
      ]
    },
    {
      "cell_type": "markdown",
      "source": [
        "### 11. Do people typically enable projects and wikis together? What is the correlation between a repo having projects enabled and having wiki enabled?"
      ],
      "metadata": {
        "id": "WO5nfRg5oUb7"
      }
    },
    {
      "cell_type": "code",
      "source": [
        "from scipy.stats import chi2_contingency\n",
        "\n",
        "def phi_coefficient(x, y):\n",
        "    contingency_table = pd.crosstab(x, y)\n",
        "    chi2 = chi2_contingency(contingency_table)[0]\n",
        "    n = contingency_table.sum().sum()\n",
        "    phi = np.sqrt(chi2 / n)\n",
        "    return phi\n",
        "\n",
        "# Example DataFrame\n",
        "# repos = pd.DataFrame({'has_projects': [...], 'has_wiki': [...]})\n",
        "\n",
        "# Calculate Phi Coefficient\n",
        "phi_result = phi_coefficient(repos['has_projects'], repos['has_wiki'])\n",
        "print(\"Phi Coefficient:\", phi_result)"
      ],
      "metadata": {
        "colab": {
          "base_uri": "https://localhost:8080/"
        },
        "id": "M8KPLuTIoY2q",
        "outputId": "3503c414-2aa7-4a20-b8c0-2cf082e2a0d0"
      },
      "execution_count": 28,
      "outputs": [
        {
          "output_type": "stream",
          "name": "stdout",
          "text": [
            "Phi Coefficient: 0.16082282399657025\n"
          ]
        }
      ]
    },
    {
      "cell_type": "markdown",
      "source": [
        "### 12. Do hireable users follow more people than those who are not hireable?"
      ],
      "metadata": {
        "id": "vfQ9JY0lFWGL"
      }
    },
    {
      "cell_type": "code",
      "source": [
        "avg_followers_hireable_users = users.groupby('hireable')['following'].mean().values[0]\n",
        "avg_followers_non_hireable_users = users[users['hireable'].isna()]['following'].mean()\n",
        "\n",
        "diff = avg_followers_hireable_users - avg_followers_non_hireable_users\n",
        "diff"
      ],
      "metadata": {
        "colab": {
          "base_uri": "https://localhost:8080/"
        },
        "id": "QhIZh6ugFZMk",
        "outputId": "ecd35599-07b4-43b5-e10e-6eda4484ffc2"
      },
      "execution_count": 18,
      "outputs": [
        {
          "output_type": "execute_result",
          "data": {
            "text/plain": [
              "10.073181216931204"
            ]
          },
          "metadata": {},
          "execution_count": 18
        }
      ]
    },
    {
      "cell_type": "markdown",
      "source": [
        "### 13. Some developers write long bios. Does that help them get more followers? What's the correlation of the length of their bio (in Unicode characters) with followers? (Ignore people without bios)"
      ],
      "metadata": {
        "id": "b35h_kpZO_dx"
      }
    },
    {
      "cell_type": "code",
      "source": [
        "users_with_bios = users[users['bio'].notnull()]\n",
        "users_with_bios.loc[:, 'bio_length'] = users_with_bios['bio'].apply(lambda x: len(x.split()))"
      ],
      "metadata": {
        "id": "9qwT4Om7PDD7",
        "colab": {
          "base_uri": "https://localhost:8080/"
        },
        "outputId": "bd649aca-512e-41f6-fec4-493f97490b1c"
      },
      "execution_count": 36,
      "outputs": [
        {
          "output_type": "stream",
          "name": "stderr",
          "text": [
            "<ipython-input-36-87bd91081d4f>:2: SettingWithCopyWarning: \n",
            "A value is trying to be set on a copy of a slice from a DataFrame.\n",
            "Try using .loc[row_indexer,col_indexer] = value instead\n",
            "\n",
            "See the caveats in the documentation: https://pandas.pydata.org/pandas-docs/stable/user_guide/indexing.html#returning-a-view-versus-a-copy\n",
            "  users_with_bios.loc[:, 'bio_length'] = users_with_bios['bio'].apply(lambda x: len(x.split()))\n"
          ]
        }
      ]
    },
    {
      "cell_type": "code",
      "source": [
        "X = users_with_bios[['bio_length']]\n",
        "y = users_with_bios[['followers']]\n",
        "\n",
        "reg = LinearRegression().fit(X, y)\n",
        "reg.coef_[0][0]"
      ],
      "metadata": {
        "colab": {
          "base_uri": "https://localhost:8080/"
        },
        "id": "oCfln-xjQZFL",
        "outputId": "a03f2237-a592-4e37-d114-9571b316099b"
      },
      "execution_count": 41,
      "outputs": [
        {
          "output_type": "execute_result",
          "data": {
            "text/plain": [
              "-0.18651238550240148"
            ]
          },
          "metadata": {},
          "execution_count": 41
        }
      ]
    },
    {
      "cell_type": "markdown",
      "source": [
        "### 14. Who created the most repositories on weekends (UTC)? List the top 5 users' login in order, comma-separated"
      ],
      "metadata": {
        "id": "vwW6KHfRMiuL"
      }
    },
    {
      "cell_type": "code",
      "source": [
        "# convert the date in to pandas date format\n",
        "repos['created_at'] = pd.to_datetime(repos['created_at'])"
      ],
      "metadata": {
        "id": "IVYSTTPTMmdE"
      },
      "execution_count": 21,
      "outputs": []
    },
    {
      "cell_type": "code",
      "source": [
        "repos_weekend = repos[repos['created_at'].dt.dayofweek.isin([5, 6])]\n",
        "repos_weekend.groupby('login')['login'].count().sort_values(ascending=False).head(5).index.values"
      ],
      "metadata": {
        "colab": {
          "base_uri": "https://localhost:8080/"
        },
        "id": "BJYr2vZUNyAd",
        "outputId": "deadc311-69a5-445a-d8c7-cf5b6ba89ed4"
      },
      "execution_count": 22,
      "outputs": [
        {
          "output_type": "execute_result",
          "data": {
            "text/plain": [
              "array(['Kushal334', 'alokproc', 'patilswapnilv', 'rajeshpillai',\n",
              "       'deadcoder0904'], dtype=object)"
            ]
          },
          "metadata": {},
          "execution_count": 22
        }
      ]
    },
    {
      "cell_type": "markdown",
      "source": [
        "### 15. Do people who are hireable share their email addresses more often?"
      ],
      "metadata": {
        "id": "cepK5S3DIv35"
      }
    },
    {
      "cell_type": "code",
      "source": [
        "frac1 = ((users['hireable'].notnull()) & (users['email'].notnull())).sum() / (users['hireable'].notnull()).sum()\n",
        "frac2 = ((users['hireable'].isnull()) & (users['email'].notnull())).sum() / (users['hireable'].isnull()).sum()\n",
        "\n",
        "frac1 - frac2"
      ],
      "metadata": {
        "colab": {
          "base_uri": "https://localhost:8080/"
        },
        "id": "PPw9A5atI6KK",
        "outputId": "ab5cf7a4-4fee-46b4-e9ae-efcab1c0282f"
      },
      "execution_count": 45,
      "outputs": [
        {
          "output_type": "execute_result",
          "data": {
            "text/plain": [
              "0.21906415343915348"
            ]
          },
          "metadata": {},
          "execution_count": 45
        }
      ]
    },
    {
      "cell_type": "markdown",
      "source": [
        "### 16. Let's assume that the last word in a user's name is their surname (ignore missing names, trim and split by whitespace.) What's the most common surname? (If there's a tie, list them all, comma-separated, alphabetically)"
      ],
      "metadata": {
        "id": "i3Jq79CCSLl9"
      }
    },
    {
      "cell_type": "code",
      "source": [
        "def get_surname(x):\n",
        "  name = x.split()\n",
        "  if len(name) == 1:\n",
        "    return None\n",
        "\n",
        "  return name[-1]\n",
        "\n",
        "\n",
        "users_with_name = users[users['name'].notnull()]\n",
        "users_with_name.loc[:, 'surname'] = users_with_name['name'].apply(get_surname)\n",
        "users_with_name.loc[:, 'surname'].value_counts()"
      ],
      "metadata": {
        "colab": {
          "base_uri": "https://localhost:8080/",
          "height": 594
        },
        "id": "EhoCnfM5SMvP",
        "outputId": "1b439a3b-e1fb-47ea-e770-702fbff8022f"
      },
      "execution_count": 47,
      "outputs": [
        {
          "output_type": "stream",
          "name": "stderr",
          "text": [
            "<ipython-input-47-1b4ee1a73ccf>:10: SettingWithCopyWarning: \n",
            "A value is trying to be set on a copy of a slice from a DataFrame.\n",
            "Try using .loc[row_indexer,col_indexer] = value instead\n",
            "\n",
            "See the caveats in the documentation: https://pandas.pydata.org/pandas-docs/stable/user_guide/indexing.html#returning-a-view-versus-a-copy\n",
            "  users_with_name.loc[:, 'surname'] = users_with_name['name'].apply(get_surname)\n"
          ]
        },
        {
          "output_type": "execute_result",
          "data": {
            "text/plain": [
              "surname\n",
              "Singh          17\n",
              "Shah           15\n",
              "Yadav          13\n",
              "Shaikh         11\n",
              "Patil          10\n",
              "               ..\n",
              "D'silva         1\n",
              "Raghuvanshi     1\n",
              "Crew            1\n",
              "LTD             1\n",
              "Sathyadas       1\n",
              "Name: count, Length: 459, dtype: int64"
            ],
            "text/html": [
              "<div>\n",
              "<style scoped>\n",
              "    .dataframe tbody tr th:only-of-type {\n",
              "        vertical-align: middle;\n",
              "    }\n",
              "\n",
              "    .dataframe tbody tr th {\n",
              "        vertical-align: top;\n",
              "    }\n",
              "\n",
              "    .dataframe thead th {\n",
              "        text-align: right;\n",
              "    }\n",
              "</style>\n",
              "<table border=\"1\" class=\"dataframe\">\n",
              "  <thead>\n",
              "    <tr style=\"text-align: right;\">\n",
              "      <th></th>\n",
              "      <th>count</th>\n",
              "    </tr>\n",
              "    <tr>\n",
              "      <th>surname</th>\n",
              "      <th></th>\n",
              "    </tr>\n",
              "  </thead>\n",
              "  <tbody>\n",
              "    <tr>\n",
              "      <th>Singh</th>\n",
              "      <td>17</td>\n",
              "    </tr>\n",
              "    <tr>\n",
              "      <th>Shah</th>\n",
              "      <td>15</td>\n",
              "    </tr>\n",
              "    <tr>\n",
              "      <th>Yadav</th>\n",
              "      <td>13</td>\n",
              "    </tr>\n",
              "    <tr>\n",
              "      <th>Shaikh</th>\n",
              "      <td>11</td>\n",
              "    </tr>\n",
              "    <tr>\n",
              "      <th>Patil</th>\n",
              "      <td>10</td>\n",
              "    </tr>\n",
              "    <tr>\n",
              "      <th>...</th>\n",
              "      <td>...</td>\n",
              "    </tr>\n",
              "    <tr>\n",
              "      <th>D'silva</th>\n",
              "      <td>1</td>\n",
              "    </tr>\n",
              "    <tr>\n",
              "      <th>Raghuvanshi</th>\n",
              "      <td>1</td>\n",
              "    </tr>\n",
              "    <tr>\n",
              "      <th>Crew</th>\n",
              "      <td>1</td>\n",
              "    </tr>\n",
              "    <tr>\n",
              "      <th>LTD</th>\n",
              "      <td>1</td>\n",
              "    </tr>\n",
              "    <tr>\n",
              "      <th>Sathyadas</th>\n",
              "      <td>1</td>\n",
              "    </tr>\n",
              "  </tbody>\n",
              "</table>\n",
              "<p>459 rows × 1 columns</p>\n",
              "</div><br><label><b>dtype:</b> int64</label>"
            ]
          },
          "metadata": {},
          "execution_count": 47
        }
      ]
    }
  ]
}